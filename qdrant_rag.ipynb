{
 "cells": [
  {
   "cell_type": "code",
   "execution_count": 1,
   "metadata": {},
   "outputs": [
    {
     "name": "stderr",
     "output_type": "stream",
     "text": [
      "/opt/miniconda3/envs/zyhdl/lib/python3.12/site-packages/tqdm/auto.py:21: TqdmWarning: IProgress not found. Please update jupyter and ipywidgets. See https://ipywidgets.readthedocs.io/en/stable/user_install.html\n",
      "  from .autonotebook import tqdm as notebook_tqdm\n"
     ]
    }
   ],
   "source": [
    "from langchain_qdrant import QdrantVectorStore\n",
    "from qdrant_client import QdrantClient\n",
    "from qdrant_client.http.models import Distance, VectorParams\n",
    "from langchain.embeddings import HuggingFaceEmbeddings\n",
    "from sentence_transformers import SentenceTransformer\n",
    "from langchain_core.documents import Document\n",
    "from langchain.text_splitter import RecursiveCharacterTextSplitter\n",
    "from sklearn.feature_extraction.text import TfidfVectorizer\n",
    "from langchain.embeddings.base import Embeddings\n",
    "from ebooklib import epub\n",
    "from bs4 import BeautifulSoup\n",
    "import numpy as np\n"
   ]
  },
  {
   "cell_type": "code",
   "execution_count": 2,
   "metadata": {},
   "outputs": [],
   "source": [
    "client = QdrantClient(host=\"localhost\", port=6333)"
   ]
  },
  {
   "cell_type": "code",
   "execution_count": 3,
   "metadata": {},
   "outputs": [
    {
     "name": "stdout",
     "output_type": "stream",
     "text": [
      "collections=[CollectionDescription(name='demo_collection')]\n"
     ]
    }
   ],
   "source": [
    "collections = client.get_collections()\n",
    "print(collections)"
   ]
  },
  {
   "cell_type": "code",
   "execution_count": 8,
   "metadata": {},
   "outputs": [
    {
     "ename": "NameError",
     "evalue": "name 'vector_store' is not defined",
     "output_type": "error",
     "traceback": [
      "\u001b[0;31m---------------------------------------------------------------------------\u001b[0m",
      "\u001b[0;31mNameError\u001b[0m                                 Traceback (most recent call last)",
      "Cell \u001b[0;32mIn[8], line 2\u001b[0m\n\u001b[1;32m      1\u001b[0m query \u001b[38;5;241m=\u001b[39m \u001b[38;5;124m\"\u001b[39m\u001b[38;5;124m葡萄糖的作用是什么\u001b[39m\u001b[38;5;124m\"\u001b[39m\n\u001b[0;32m----> 2\u001b[0m hybrid_results \u001b[38;5;241m=\u001b[39m hybrid_search_from_db(query, \u001b[43mvector_store\u001b[49m, tfidf_embedder)\n\u001b[1;32m      3\u001b[0m \u001b[38;5;28;01mfor\u001b[39;00m result \u001b[38;5;129;01min\u001b[39;00m hybrid_results:\n\u001b[1;32m      4\u001b[0m     \u001b[38;5;28mprint\u001b[39m(\u001b[38;5;124m\"\u001b[39m\u001b[38;5;124mRetrieved:\u001b[39m\u001b[38;5;124m\"\u001b[39m, result)\n",
      "\u001b[0;31mNameError\u001b[0m: name 'vector_store' is not defined"
     ]
    }
   ],
   "source": [
    "query = \"葡萄糖的作用是什么\"\n",
    "hybrid_results = hybrid_search_from_db(query, vector_store, tfidf_embedder)\n",
    "for result in hybrid_results:\n",
    "    print(\"Retrieved:\", result)\n"
   ]
  },
  {
   "cell_type": "code",
   "execution_count": 1,
   "metadata": {},
   "outputs": [
    {
     "name": "stderr",
     "output_type": "stream",
     "text": [
      "/opt/miniconda3/envs/zyhdl/lib/python3.12/site-packages/tqdm/auto.py:21: TqdmWarning: IProgress not found. Please update jupyter and ipywidgets. See https://ipywidgets.readthedocs.io/en/stable/user_install.html\n",
      "  from .autonotebook import tqdm as notebook_tqdm\n",
      "/var/folders/_n/9zf09hdj0fz1tnnwcsxd7gs00000gn/T/ipykernel_14944/1772252649.py:87: LangChainDeprecationWarning: The class `HuggingFaceEmbeddings` was deprecated in LangChain 0.2.2 and will be removed in 1.0. An updated version of the class exists in the :class:`~langchain-huggingface package and should be used instead. To use it run `pip install -U :class:`~langchain-huggingface` and import as `from :class:`~langchain_huggingface import HuggingFaceEmbeddings``.\n",
      "  embedding = HuggingFaceEmbeddings(\n",
      "/var/folders/_n/9zf09hdj0fz1tnnwcsxd7gs00000gn/T/ipykernel_14944/1772252649.py:95: DeprecationWarning: `recreate_collection` method is deprecated and will be removed in the future. Use `collection_exists` to check collection existence and `create_collection` instead.\n",
      "  client.recreate_collection(\n",
      "/opt/miniconda3/envs/zyhdl/lib/python3.12/site-packages/ebooklib/epub.py:1395: UserWarning: In the future version we will turn default option ignore_ncx to True.\n",
      "  warnings.warn('In the future version we will turn default option ignore_ncx to True.')\n",
      "/opt/miniconda3/envs/zyhdl/lib/python3.12/site-packages/ebooklib/epub.py:1423: FutureWarning: This search incorrectly ignores the root element, and will be fixed in a future version.  If you rely on the current behaviour, change it to './/xmlns:rootfile[@media-type]'\n",
      "  for root_file in tree.findall('//xmlns:rootfile[@media-type]', namespaces={'xmlns': NAMESPACES['CONTAINERNS']}):\n"
     ]
    },
    {
     "name": "stdout",
     "output_type": "stream",
     "text": [
      "Processed and stored 483 chunks from /Users/zhaoyuhang/Downloads/生酮饮食：低碳水、高脂肪饮食完全指南 (吉米·摩尔（Jimmy Moore）  埃里克·韦斯特曼（Eric Westman）) (Z-Library).epub\n",
      "Retrieved: 生酮饮食专家介绍通过我的播客，我有幸采访到上百个最优秀、最聪明的专家，谈论了许多健康方面的重要话题。因此，决定写这本书的时候，我就知道该去找谁询问关于生酮饮食以及它对健康影响的相关信息。我很高兴能介绍这22位来自世界各地的专家。你会在本书中读到很多引自他们的话，这些话出现在下文“专家解析”栏目中。兹沙恩·阿伦（Zeeshan\n",
      "Retrieved: Arain），医学学士、公共卫生与热带医学硕士、澳大利亚皇家全科医学院院士阿伦博士在澳大利亚墨尔本的莫纳什大学拿到了他的医学学位，他也拿到了詹姆斯·库克大学的公共卫生与热带医学学士学位。阿伦博士作为一名全科医生，在澳大利亚足球联盟（AFL）墨尔本足球俱乐部任职，这是全世界最精英的专业体育组织之一。阿伦博士对营养和运动在预防和治疗慢性疾病和肥胖中的作用特别感兴趣。阿伦博士亲自治疗了数百名患者，他使用配制好的低碳水、高脂肪的生酮饮食来控制各种医疗状况，包括糖尿病、多囊卵巢综合征、肥胖症、高血压、癫痫、胃食管反流和肠易激综合征。他已经就生酮饮食进行了几次公开讲座，也正在开展这一领域的研究。个人生活中，他自2012年以来一直在进行生酮饮食。请在网站SouthYarraMedical.com.au/doctors/5/dr-zeeshan-arain上了解更多关于阿伦博士的信息。布莱恩·巴克斯代尔（Bryan\n",
      "Retrieved: Runyan），医学博士鲁尼恩博士是佛罗里达州圣彼得斯堡私人诊所的执业医师，专攻内科、肾脏病和肥胖医学。他在2001年开始私人执业之前，曾经做过10年的急救医疗。1998年，他在38岁时患上了1型糖尿病。尽管他的糖尿病在强化胰岛素治疗下得到了很好的控制，但他经常发生低血糖。2011年，在铁人三项赛训练时，鲁尼恩博士开始寻找一种更好地治疗糖尿病并进行耐力运动的方法，他决定尝试使用低碳水、高脂肪的生酮饮食。2012年2月，他开始用这种饮食来治疗自己的糖尿病，并得知这种饮食对于治疗许多其他疾病（包括肥胖）也是有效的。鲁尼恩博士于2012年10月20日完成铁人三项赛，营养性生酮状态良好。请在网站DrKRunyan.com上了解更多关于鲁尼恩博士的信息。托马斯·西耶弗里德（Thomas\n",
      "Retrieved: 推荐测量更好更可靠的血酮（β-羟基丁酸），因为血酮水平能允许你设定目标为0.5～3.0毫摩/升的最佳生酮范围。这些内容我们会在本书第8章中详细解释，现在你只需要知道测量技术的进步可以让我们更精确地知道一个人的阿特金斯饮食是否处在营养性生酮状态。专家解析想要知道是否处于生酮状态，你必须检测血液中β-羟基丁酸的水平。你的碳水摄入需要降到足够低，直到血酮浓度达到足够高。经过一段时间，一旦你达到了生酮状态，就没有必要再一直监控酮体水平了。除非你的饮食发生了改变，或者有其他的压力源，比如运动或旅游，这些时候可能需要再次测量酮体水平。——兹沙恩·阿伦博士如果你不做任何的酮体测量，虽然还是可能体验到生酮的好处，但只能靠猜测是否处于生酮状态。第一步肯定是开始低碳水饮食，但是如果要确定你的饮食是否生酮，还有很多别的方面需要注意。我们会在接下来的几章深入讲述这个话题。但在下一章，让我们先来看看主流健康组织是如何评价生酮的。你也许可以想象到，它们也陷入了大量的误导信息中，把营养性生酮和酮症酸中毒混淆了。专家解析我迄今为止还没听说过任何长期营养性生酮状态的严重不良反应。——杰·沃特曼博士本章关键概念·生酮饮食\n",
      "Retrieved: Gerber）博士是一位来自科罗拉多州利多尔顿市的家庭医生。当他开始教导患者关于疾病和精炼加工食物之间的关系时，这位医生很快获得了患者们的关注。不像其他的医生同事们，格柏并没有直接掏出他的处方笺并建议患者服药。相反，他鼓励患者改变生活方式，其中包括显著降低碳水化合物的摄入，并且增加天然的膳食脂肪（包括饱和脂肪）。格柏解释道，这些改变可以帮助患者减少饥饿感、促进减肥，并最终解决他们特定的健康问题。专家解析碳水化合物的过度摄入造成了当今的“行尸走肉”。——斯蒂芬妮·皮尔森格柏博士没有让患者用自己的测量设备。相反，他跟踪患者的体重变化、心脏代谢标记和其他关键的健康参数，看看生酮饮食对他们的效果如何。不合格的饮食容易导致代谢疾病和炎症，其中肥胖症和2型糖尿病是两种最明显的疾病。对于吃太多会导致肥胖和不健康的观念，格柏博士并不赞同。他认为这是一种“短视”的观念。我们应该更重视卡路里的质量，而非卡路里的数量。也就是说，应该多吃完整的、未经加工的、营养密集的饮食，就像我们祖先吃的一样。除此之外，格柏博士还认为目前我们对慢性疾病的治疗都是低效率的，这导致了日益增长的医疗保健费。之所以低效率，是源于滥\n",
      "Retrieved: 一，上台发表了演讲，讲述关于他的发明。专家解析除了预防和治疗癫痫及肥胖，使用营养性生酮来治疗其他的疾病是一个相对较新的概念，所以现在还没有大规模的临床试验。大多数生物化学教科书几乎不会提到生酮的概念，除非是在饥饿和糖尿病酮症酸中毒的文献里。——兹沙恩·阿伦博士我们期待着未来几年会有更多的呼吸酮测量仪以及相关技术的开发。2013年7月25日的《呼吸研究杂志》（Journal\n",
      "Retrieved: Technologies公司总裁卢比娜·艾哈迈德（Lubna\n",
      "Retrieved: Manninen）在2006年1月的《营养与代谢》杂志上发表了一项研究报告，研究超低碳水化合物饮食（定义为每天10克碳水化合物）对肌肉质量的影响。他得出结论，肝脏产生的酮体对肌肉蛋白质分解起到抑制作用。此外，脂肪酸和酮体的存在实际上可以抑制可能导致肌肉损伤的氨基酸氧化。换句话说，与其说低碳水的生酮饮食让肌肉损失，不如说这种饮食方式实际上是保护你的肌肉。埃里克·韦斯特曼博士的医生手记有一种头脑风暴的技巧是“把一切颠倒过来”，以便看到不同的东西，这时通常会出现新的解决方案。肌肉细胞需要用胰岛素打开葡萄糖受体（通道）。我们通常认为这些受体是用来帮助葡萄糖进入的，但如果我们反过来想会如何？这些受体的作用是将葡萄糖阻挡在细胞外，有了这种观念上的转变，我们可以将肌肉细胞看作脂肪燃烧的细胞，只有当冲刺或其他需要爆发能量的活动时才需要糖。3.超低碳水化合物的生酮饮食会引起甲状腺功能减退和肾上腺疲劳专家解析有人是因为生酮而患有甲状腺功能减退症的吗？还是由慢性低热量摄取、压力或其他因素引起的，甚至是所有这一切的综合原因？没有单一变量，就不能肯定地说生酮是引起问题的原因。——兹沙恩·阿伦博士当甲状腺激素T\n",
      "Retrieved: 第16章　使用生酮治疗的核心科学基础埃里克·韦斯特曼博士的医生手记加拿大总理莱斯特·皮尔逊（Lester\n",
      "Retrieved: 结语　现在你已有所感悟，之后呢专家解析在生酮状态下，我发现自己有更好的动力和注意力，有更高的头脑清晰度和工作效率。——布莱恩·巴克斯代尔当我停止相信一定要采用低脂肪、高碳水化合物的饮食来减肥和保持健康的时候，这可能是我一生中的一个决定性时刻。我再也不会以同样的方式看待营养及其对健康的影响。我希望阅读本书对你来说也是一个类似的变革经历，希望其中的知识和智慧能带给你生酮饮食的所有健康益处。专家解析历史上许多文明应该已经经历过长时间的营养性生酮时期。——兹沙恩·阿伦博士因为主流媒体没有很好地进行理解和表达，所以很多本来应该从低碳水、中等蛋白质、高脂肪的生酮饮食中获益的人甚至没有听说过生酮饮食。我觉得这是很可笑的事情。你生命中有多少人已经患有生酮饮食能够改善的疾病呢？如2型糖尿病、肥胖、癫痫、心血管疾病、代谢综合征、肠易激综合征等。他们不应该知道有一种可能比药物和其他方法更有效的完全天然的营养治疗方法吗？他们肯定想知道！这就是启发我写作本书的原因：用通俗的语言分享关于生酮饮食的真实且实用的信息。我想让你了解有关生酮饮食的知识、智慧和经验，使你有信心追求健康，并得到很大的改善。专家解析人们现在\n"
     ]
    }
   ],
   "source": [
    "\n",
    "\n",
    "class TfidfSparseEmbeddings(Embeddings):\n",
    "    def __init__(self):\n",
    "        self.vectorizer = TfidfVectorizer()\n",
    "\n",
    "    def embed_documents(self, texts: list[str]) -> list[list[float]]:\n",
    "        self.matrix = self.vectorizer.fit_transform(texts)\n",
    "        return self.matrix.toarray().tolist()\n",
    "\n",
    "    def embed_query(self, query: str) -> list[float]:\n",
    "        q_vector = self.vectorizer.transform([query])\n",
    "        return q_vector.toarray().tolist()[0]\n",
    "\n",
    "\n",
    "def split_document(content: str, chunk_size: int = 500, chunk_overlap: int = 50):\n",
    "    splitter = RecursiveCharacterTextSplitter(chunk_size=chunk_size, chunk_overlap=chunk_overlap)\n",
    "    return splitter.split_text(content)\n",
    "\n",
    "\n",
    "def extract_text_from_epub(epub_path: str) -> str:\n",
    "    book = epub.read_epub(epub_path)\n",
    "    content_pieces = []\n",
    "    for item in book.get_items():\n",
    "        if item.get_type() == 9:\n",
    "            soup = BeautifulSoup(item.get_body_content(), \"html.parser\")\n",
    "            text = soup.get_text(strip=True)\n",
    "            if text:\n",
    "                content_pieces.append(text)\n",
    "    return \"\\n\".join(content_pieces)\n",
    "\n",
    "\n",
    "def process_and_store_epub(file_path: str, vector_store, tfidf_embedder, chunk_size: int = 500, chunk_overlap: int = 50):\n",
    "    content = extract_text_from_epub(file_path)\n",
    "    chunks = split_document(content, chunk_size, chunk_overlap)\n",
    "    documents = [Document(page_content=chunk) for chunk in chunks]\n",
    "\n",
    "    # 向量化存储\n",
    "    ids = [i for i in range(len(documents))]\n",
    "    vector_store.add_documents(documents=documents, ids=ids)\n",
    "\n",
    "    # TF-IDF 向量化\n",
    "    tfidf_embedder.embed_documents([doc.page_content for doc in documents])\n",
    "    print(f\"Processed and stored {len(documents)} chunks from {file_path}\")\n",
    "\n",
    "\n",
    "def hybrid_search(query: str, vector_store, tfidf_embedder, documents, top_k: int = 5):\n",
    "    # 向量检索\n",
    "    retriever = vector_store.as_retriever(search_kwargs={\"k\": top_k})\n",
    "    vector_results = retriever.invoke(query)\n",
    "\n",
    "    # 提取向量检索结果中的内容\n",
    "    vector_result_contents = [doc.page_content for doc in vector_results]\n",
    "\n",
    "    # 关键词检索（TF-IDF）\n",
    "    query_vector = tfidf_embedder.embed_query(query)\n",
    "    doc_vectors = np.array(tfidf_embedder.matrix.toarray())\n",
    "    similarities = doc_vectors @ query_vector  # 矩阵乘法计算相似度\n",
    "    keyword_indices = similarities.argsort()[-top_k:][::-1]\n",
    "    keyword_results = [documents[i].page_content for i in keyword_indices]\n",
    "\n",
    "    # 合并结果\n",
    "    combined_results = list(set(vector_result_contents + keyword_results))\n",
    "\n",
    "    # 返回对应的 Document 对象\n",
    "    return [doc for doc in documents if doc.page_content in combined_results]\n",
    "\n",
    "\n",
    "\n",
    "# 初始化 Qdrant 客户端\n",
    "client = QdrantClient(host=\"localhost\", port=6333)\n",
    "\n",
    "# 检查模型生成的密集向量维度\n",
    "model = SentenceTransformer(\"sentence-transformers/paraphrase-multilingual-MiniLM-L12-v2\", cache_folder=\"../embedding_model\")\n",
    "embedding = HuggingFaceEmbeddings(\n",
    "    model_name=\"sentence-transformers/paraphrase-multilingual-MiniLM-L12-v2\",\n",
    "    cache_folder=\"../embedding_model\",\n",
    ")\n",
    "example_vector = model.encode(\"Sample text\")\n",
    "vector_size = len(example_vector)\n",
    "\n",
    "# 创建或重建 Qdrant 集合\n",
    "client.recreate_collection(\n",
    "    collection_name=\"demo_collection\",\n",
    "    vectors_config=VectorParams(size=vector_size, distance=Distance.COSINE),\n",
    ")\n",
    "\n",
    "# 初始化向量存储和 TF-IDF Embedding\n",
    "vector_store = QdrantVectorStore(\n",
    "    client=client,\n",
    "    collection_name=\"demo_collection\",\n",
    "    embedding=embedding,\n",
    "    retrieval_mode=\"dense\",\n",
    ")\n",
    "tfidf_embedder = TfidfSparseEmbeddings()\n",
    "\n",
    "# 示例：处理 EPUB 文件\n",
    "epub_file_path = \"/Users/zhaoyuhang/Downloads/生酮饮食：低碳水、高脂肪饮食完全指南 (吉米·摩尔（Jimmy Moore）  埃里克·韦斯特曼（Eric Westman）) (Z-Library).epub\"\n",
    "process_and_store_epub(epub_file_path, vector_store, tfidf_embedder)\n",
    "\n",
    "\n"
   ]
  },
  {
   "cell_type": "code",
   "execution_count": 3,
   "metadata": {},
   "outputs": [
    {
     "name": "stderr",
     "output_type": "stream",
     "text": [
      "/opt/miniconda3/envs/zyhdl/lib/python3.12/site-packages/ebooklib/epub.py:1395: UserWarning: In the future version we will turn default option ignore_ncx to True.\n",
      "  warnings.warn('In the future version we will turn default option ignore_ncx to True.')\n",
      "/opt/miniconda3/envs/zyhdl/lib/python3.12/site-packages/ebooklib/epub.py:1423: FutureWarning: This search incorrectly ignores the root element, and will be fixed in a future version.  If you rely on the current behaviour, change it to './/xmlns:rootfile[@media-type]'\n",
      "  for root_file in tree.findall('//xmlns:rootfile[@media-type]', namespaces={'xmlns': NAMESPACES['CONTAINERNS']}):\n"
     ]
    },
    {
     "name": "stdout",
     "output_type": "stream",
     "text": [
      "Retrieved: A没有对任何人提到过关于生酮饮食在控制血糖和改善健康方面的治疗作用——包括对数百万能受益于生酮饮食的2型糖尿病患者们（我们会在第16章详细讨论）。这简直是个悲剧！鉴于ADA的读者都是糖尿病患者，这些人酮症酸中毒的风险最高，所以ADA的担心是可以理解的。但是只要这些患者的血糖保持在较低状态，他们其实并不需要害怕生酮——既然研究已表明生酮对控制糖尿病可能是非常有益的（我们会在第16章详细讨论），糖尿病患者也许还会享受到很多好处呢！资料来源：Diabetes.org.专家解析我们的研究实验表明，生酮状态最大的益处就是葡萄糖代谢显著降低。这与糖尿病症状正好相反。——查尔斯·莫伯斯博士正如这些受到高度关注的、所谓的健康权威组织曾经团结一致地将胆固醇指控为心脏病的罪魁祸首（详见我的另一本书《胆固醇入门全书》）一样，它们也联合起来将生酮状态描述为不良和危险。这些来自医生、营养师以及什么都知道的大师的信息其实都是假的。这也是为什么我们觉得要写下本书：我们要把真正的生酮展示给大家，这些真相几乎和那些健康组织说的完全相反。已有研究显示生酮饮食具有某些治疗效果，这让很多医生和其他健康从业者开始认识到它，发现\n",
      "Retrieved: 们可能破坏你对食物的消化和代谢。”专家解析当谈到碳水化合物和简单糖时，可以遵循我的简单规则，当你对某种食物有疑问的时候，扔掉它！碳水化合物应该主要来自非淀粉类蔬菜，而不是淀粉和精制碳水化合物。对于有任何程度胰岛素抵抗的人群（如今几乎人人都有），如果你每日碳水摄入大于50克，那么实现并保持生酮的可能性很小。而对于那些没有胰岛素抵抗的人，多摄入一点碳水也许还可以保持生酮状态。——威廉·威尔逊博士两周过后，如果你正在产酮（我们会在第8章中详细介绍如何测量酮体），请尝试慢慢地将每日碳水化合物提高5～10克，持续1周，看看是否会影响你的产酮。如果酮体水平仍然保持在一个合理的营养性生酮状态，那么代表你的饮食中可以多一点碳水化合物。继续重复试探几周，直到你的酮体水平开始下降，这时候恢复到上一个碳水摄入值，保持足够的酮体水平就可以了。如果你每天只摄入20克总碳水，两周后还没有产酮，那么考虑将碳水摄入量再调低至每天10～15克，并且限制蛋白质的摄入（我们将在下一章详细讨论这个话题）。不要失去希望。即使你对碳水化合物特别敏感，也可以进入生酮状态。相信我，我完全理解这种情况。我自己每天的碳水摄入量不能超过3\n",
      "Retrieved: 正常化并保持平衡。当身体不吃任何食物的时候（例如睡觉的时候），肝脏就会用糖异生作用，使用氨基酸（蛋白质的结构单元）、乳酸和甘油（一个来自脂肪的分子）来制造身体所需要的糖。激素（如皮质醇和胰岛素）会控制这一过程，以维持葡萄糖水平的稳定。在大约一天的禁食后，肝脏中的糖原（储存的葡萄糖）减少，糖异生作用就会正式开始，肝脏开始为身体制造葡萄糖。这难道不是一个难以置信的过程吗？专家解析具有潜在问题的人，例如异常抑制的皮质醇甚至是肾上腺自身免疫导致的皮质醇抑制，这些人可能会由于糖异生作用受损，从而导致对碳水化合物极度渴望，以及意想不到的低血糖症状。——诺拉·葛杰达斯那么生酮期间的糖异生作用究竟为什么那么重要？如果你正在进行低碳水、高脂肪的饮食，而且你吃的碳水化合物在个人耐受值以下，但还是没有产生足够的酮体，那么很有可能是由于你吃了过多的蛋白质。摄入大量的蛋白质和少量碳水化合物会促使糖异生作用开始，从而升高血糖和胰岛素水平，最终抑制酮体的产生。为了解决这个问题，有必要减少蛋白质的摄入量。在尝试确定你的蛋白质阈值时，请记住一件重要的事情：如果你对碳水化合物特别敏感（像我一样），那么你也将对蛋白质更敏感\n",
      "Retrieved: 如果没有足够的脂肪，你会不断地饥饿，于是沮丧、愤怒，最终会很快放弃低碳水、高蛋白饮食。很多所谓的健康专家没有意识到，低碳水饮食的人需要用膳食脂肪来作为替代燃料，帮助他们感到满足，并在每餐之间有足够的能量。当你从燃烧糖变成燃烧脂肪，你会有更多的精力和更好的精神明锐度，而且你在饭后也会更满足。专家解析一旦我的客户熬过了生酮适应期的障碍，他们注意到的第一件事就是饥饿感和相伴的烦躁感都消失了。除此之外，他们思维更加清晰，精力有了极大的恢复，体脂减少，身材更苗条了。他们经常检测血糖，血糖指标开始正常化。最神奇的是，我观察到他们对糖和碳水化合物的渴望下降了，不健康的食物尝起来越来越难吃了。——斯蒂芬妮·皮尔森也许你以前尝试过低碳水饮食，并认为如果低碳水化合物是好的，那么低碳水、低脂肪饮食肯定更好。这是一个巨大的错误。同时进行低碳水和低脂肪的饮食不利于健康的生活，尤其是如果你想体验生酮的好处。请想一想：如果你杜绝碳水化合物并减少脂肪摄入，那么留下来的是什么？蛋白质。正如上一章所讨论的，摄入过多的蛋白质实际上会增加体内的葡萄糖，使得身体几乎无法产生酮体。又或者你目前超重或肥胖，你在阅读本章的时候对于高\n",
      "Retrieved: 实际上会增加体内的葡萄糖，使得身体几乎无法产生酮体。又或者你目前超重或肥胖，你在阅读本章的时候对于高脂肪的摄入有些怀疑。你可能会想，我自己的身体中就有大量的脂肪，所以我应该不需要像其他人一样吃脂肪。请不要这样对自己！是的，你有很多体脂，可以在你处于生酮状态时用来燃烧供能。但是，要把你吃脂肪想象成发动身体新陈代谢引擎的方法。想将身体从燃烧糖的机器变成燃烧脂肪的机器，唯一的方法是取得体脂并将它作为燃料燃烧供能。而想要燃烧体脂肪，唯一的方法是喂给身体想要的东西——脂肪。专家解析高效地适应使用脂肪和酮体作为主要燃料来源，即使没有规律地进餐，也可以形成非常稳定的能源库（因为有体脂作为源源不断的能量来源），这就像在你的柴灶中放入一根大木柴燃烧一样。——诺拉·葛杰达斯2013年3月，在《芝加哥论坛报》（Chicago\n",
      "Retrieved: Tribune）旗下的“红眼芝加哥”网站上有一个新闻故事，大约36岁的伊利诺伊州人约翰·休斯顿（John\n",
      "Retrieved: 是后来当我的血糖仅凭生酮饮食就能维持在健康范围内时，我最终停止了服用补剂。事实上，我曾有一周的时间每小时测试一次血糖水平，就是为了看看餐后会发生什么。我发现，生酮帮助我非常严格地控制血糖的稳定，保持在1.0～1.5毫摩/升的波动区间。当你进行营养性生酮时，血糖不会有巨大的峰值。专家解析在我看来，控制碳水化合物食物的质量和数量可以使胰岛素和血糖反应更正常，也会让波动值更稳定。这是我们在阿特金斯中心的临床试验中看到的。由于不稳定的胰岛素和血糖反应对身体中的每一个细胞都有负面影响，因此维持这种新陈代谢系统的正常功能对长期健康来说至关重要。——杰奎琳·埃贝斯泰因在试验开始时，我测试了HgA1c水平（血糖调节中的关键标记物，可以显示过去3个月间的平均血糖），当时的数值是5.4毫摩/升。这个结果并不差，但它肯定可以更好。当我在生酮饮食进行6个月后再次检查时，该数值已经下降到4.7，也就是平均每日血糖读数为4.7毫摩/升。我的心脏健康指标也改变了：高密度脂蛋白胆固醇升高，甘油三酯下降，低密度脂蛋白颗粒变成了更健康、大颗粒的种类，我的C反应蛋白（炎症的关键指标）下降到了最佳范围，心脏CT扫描显示，我的\n",
      "Retrieved: 在阅读本书的人都应该积极地使用血糖仪来测试自己的血糖水平。它可以说是用来评估我们代谢状况的最宝贵但最未被充分利用的工具之一。血糖仪在药店或药房都可以买到。知道血糖值有什么用？用处非常大。它能让你知道身体对食物是如何反应的，知道这种荷尔蒙的反应非常重要。将碳水化合物和蛋白质摄入量保持在你的个人耐受度和阈值以内，摄入足量的食物达到饱腹感，并且从真正的食物中获取脂肪，这样的饮食可将你的空腹血糖水平降低到4.4毫摩/升甚至3.9毫摩/升以下，同时提高你的血液酮体水平。两个数字之间几乎是反向的关系——当你采用低碳水、高脂肪的饮食时，血糖下降，血酮升高。相反，随着血糖升高（很可能由于摄入碳水和蛋白质超出了你的耐受水平），你的血酮就会下降。专家解析总体来说，你的生酮饮食越严格，在降低血糖方面就会获得越多的改善。——查尔斯·莫伯斯博士血糖水平可能是告诉你是否在产酮的第一个信号。在我每天测试血糖和血酮的那一年，我注意到在血酮水平增加之前，血糖会趋于降低。例如，在刚开始采用低碳水、中等蛋白质、高脂肪饮食的一个星期内，你会看到早晨空腹血糖从5.5毫摩/升降至4.7毫摩/升，但你可能测到的血酮不在营养性生酮状\n",
      "Retrieved: 原的释放。作为身体中可以储存的糖，糖原充满了水分。而由于低碳水饮食让身体从燃糖机器转变为燃脂机器，所以当糖原耗尽时，不能完全被补充。当糖原重量损失时，身体的水分也会损失。另外一部分原因是胰岛素水平的降低。胰岛素控制肾脏保持水分和盐分，因此当你吃碳水化合物并产生更多的胰岛素时，你会保留更多的水分和盐分。减少碳水化合物则会降低胰岛素水平，导致肾脏保留较少的盐和水。这些肯定不是坏事，也解释了为什么有些超重或肥胖的人在开始进行低碳水、高脂肪的生酮饮食时会减掉很多重量。但是生酮的有趣之处在于，一旦水分消失，真正的脂肪减少就会开始。是的，在这一点上，体重减轻的速度会显著降低。然而，这时候你的身体正在使用储存的身体脂肪作为燃料，并高兴地燃烧着酮体。因此，在生酮饮食中分解器官和肌肉的概念是相当荒谬的，特别是当你阅读发表的研究报告时。芬兰库奥皮奥大学医学院营养研究员安西·曼尼南（Anssi\n",
      "Retrieved: Table of Contents《生酮饮食》的重要免责声明如何使用这本书引言生酮饮食专家介绍第1章 什么是生酮状态？第2章 生酮饮食与阿特金斯饮食有什么区别第3章 主流健康机构对生酮饮食怎么看第4章 医生们使用生酮饮食取得了第5章 找到你的碳水耐受水平第6章 确定你的个人蛋白质阈值第7章 用脂肪填饱肚子，尤其是饱和脂肪第8章 用科技测量酮体第9章 我为期1年的营养性生酮试验第10章 5个关于低碳水饮食的误解，以及营养性生酮是如何拯救我的第11章 间歇性断食在生酮饮食中的作用第12章 生酮饮食常见问答集第13章 8个成功的生酮饮食故事第14章 10个可能让你无法产生足够酮体的原因第15章 10个对生酮饮食的批评第16章 使用生酮治疗的核心科学基础第17章 生酮饮食带来好处的有利证据第18章 使用酮体的新兴研究领域第19章 生酮饮食的购物清单第20章 低碳水高脂肪的生酮食谱第21章 21天生酮配餐启动计划结语 现在你已有所感悟，之后呢术语表致谢参考文献\n"
     ]
    }
   ],
   "source": [
    "# 查询示例\n",
    "documents = [Document(page_content=chunk) for chunk in split_document(extract_text_from_epub(epub_file_path))]\n",
    "query = \"葡萄糖的作用是什么\"\n",
    "hybrid_results = hybrid_search(query, vector_store, tfidf_embedder, documents)\n",
    "for result in hybrid_results:\n",
    "    print(\"Retrieved:\", result.page_content)"
   ]
  },
  {
   "cell_type": "code",
   "execution_count": null,
   "metadata": {},
   "outputs": [],
   "source": []
  }
 ],
 "metadata": {
  "kernelspec": {
   "display_name": "zyhdl",
   "language": "python",
   "name": "python3"
  },
  "language_info": {
   "codemirror_mode": {
    "name": "ipython",
    "version": 3
   },
   "file_extension": ".py",
   "mimetype": "text/x-python",
   "name": "python",
   "nbconvert_exporter": "python",
   "pygments_lexer": "ipython3",
   "version": "3.12.7"
  }
 },
 "nbformat": 4,
 "nbformat_minor": 2
}
