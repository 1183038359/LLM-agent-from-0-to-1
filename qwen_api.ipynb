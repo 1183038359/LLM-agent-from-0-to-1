{
 "cells": [
  {
   "cell_type": "code",
   "execution_count": 1,
   "metadata": {},
   "outputs": [
    {
     "name": "stdout",
     "output_type": "stream",
     "text": [
      "{\"status_code\": 200, \"request_id\": \"c7f1d1d1-5394-9592-af94-fc85d37b01e6\", \"code\": \"\", \"message\": \"\", \"output\": {\"text\": \"我是通义千问，由阿里云开发的AI助手。我可以回答各种问题、提供信息和与用户进行对话。有什么我可以帮助你的吗？\", \"finish_reason\": \"stop\", \"choices\": null}, \"usage\": {\"input_tokens\": 22, \"output_tokens\": 33, \"total_tokens\": 55}}\n"
     ]
    }
   ],
   "source": [
    "import os\n",
    "import dashscope\n",
    "from dotenv import load_dotenv\n",
    "load_dotenv()\n",
    "messages = [\n",
    "    {'role': 'system', 'content': 'You are a helpful assistant.'},\n",
    "    {'role': 'user', 'content': '你是谁？'}\n",
    "    ]\n",
    "response = dashscope.Generation.call(\n",
    "    # 若没有配置环境变量，请用百炼API Key将下行替换为：api_key=\"sk-xxx\",\n",
    "    api_key=os.getenv('DASHSCOPE_API_KEY'),\n",
    "    model=\"qwen-plus\", # 模型列表：https://help.aliyun.com/zh/model-studio/getting-started/models\n",
    "    messages=messages,\n",
    "    # result_format='message'\n",
    "    )\n",
    "print(response)"
   ]
  },
  {
   "cell_type": "code",
   "execution_count": 4,
   "metadata": {},
   "outputs": [
    {
     "name": "stdout",
     "output_type": "stream",
     "text": [
      "/Users/zhaoyuhang/code/从零到一构建agent/data/llm_result\n"
     ]
    }
   ],
   "source": [
    "import os\n",
    "workdir_root=os.environ.get('WORKDIR_ROOT','/data/llm_result')\n",
    "workdir_root=os.getcwd()+workdir_root\n",
    "print(workdir_root)\n"
   ]
  },
  {
   "cell_type": "code",
   "execution_count": null,
   "metadata": {},
   "outputs": [],
   "source": []
  }
 ],
 "metadata": {
  "kernelspec": {
   "display_name": "zyhdl",
   "language": "python",
   "name": "python3"
  },
  "language_info": {
   "codemirror_mode": {
    "name": "ipython",
    "version": 3
   },
   "file_extension": ".py",
   "mimetype": "text/x-python",
   "name": "python",
   "nbconvert_exporter": "python",
   "pygments_lexer": "ipython3",
   "version": "3.12.7"
  }
 },
 "nbformat": 4,
 "nbformat_minor": 2
}
