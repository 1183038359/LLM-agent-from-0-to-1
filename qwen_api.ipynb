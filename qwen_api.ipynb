{
 "cells": [
  {
   "cell_type": "code",
   "execution_count": 4,
   "metadata": {},
   "outputs": [
    {
     "name": "stdout",
     "output_type": "stream",
     "text": [
      "{\"status_code\": 200, \"request_id\": \"73e2088a-84d1-9a48-a7f5-8fbf414fe33e\", \"code\": \"\", \"message\": \"\", \"output\": {\"text\": null, \"finish_reason\": null, \"choices\": [{\"finish_reason\": \"stop\", \"message\": {\"role\": \"assistant\", \"content\": \"我是阿里云开发的一款超大规模语言模型，我叫通义千问。\"}}]}, \"usage\": {\"input_tokens\": 22, \"output_tokens\": 17, \"total_tokens\": 39}}\n"
     ]
    }
   ],
   "source": [
    "import os\n",
    "import dashscope\n",
    "from dotenv import load_dotenv\n",
    "load_dotenv()\n",
    "messages = [\n",
    "    {'role': 'system', 'content': 'You are a helpful assistant.'},\n",
    "    {'role': 'user', 'content': '你是谁？'}\n",
    "    ]\n",
    "response = dashscope.Generation.call(\n",
    "    # 若没有配置环境变量，请用百炼API Key将下行替换为：api_key=\"sk-xxx\",\n",
    "    api_key=os.getenv('DASHSCOPE_API_KEY'),\n",
    "    model=\"qwen-plus\", # 模型列表：https://help.aliyun.com/zh/model-studio/getting-started/models\n",
    "    messages=messages,\n",
    "    result_format='message'\n",
    "    )\n",
    "print(response)"
   ]
  },
  {
   "cell_type": "code",
   "execution_count": null,
   "metadata": {},
   "outputs": [],
   "source": []
  }
 ],
 "metadata": {
  "kernelspec": {
   "display_name": "py310",
   "language": "python",
   "name": "python3"
  },
  "language_info": {
   "codemirror_mode": {
    "name": "ipython",
    "version": 3
   },
   "file_extension": ".py",
   "mimetype": "text/x-python",
   "name": "python",
   "nbconvert_exporter": "python",
   "pygments_lexer": "ipython3",
   "version": "3.10.15"
  }
 },
 "nbformat": 4,
 "nbformat_minor": 2
}
